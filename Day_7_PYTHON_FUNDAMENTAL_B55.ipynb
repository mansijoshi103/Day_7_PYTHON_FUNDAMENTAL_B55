{
 "cells": [
  {
   "cell_type": "code",
   "execution_count": null,
   "id": "f0b84f93",
   "metadata": {},
   "outputs": [],
   "source": [
    "more examples of loop statement"
   ]
  },
  {
   "cell_type": "code",
   "execution_count": 1,
   "id": "d560369b",
   "metadata": {},
   "outputs": [],
   "source": [
    "food=['burger','pizza','choclate','moomos','fries']"
   ]
  },
  {
   "cell_type": "code",
   "execution_count": 2,
   "id": "a8501aa1",
   "metadata": {},
   "outputs": [
    {
     "name": "stdout",
     "output_type": "stream",
     "text": [
      "['burger', 'pizza', 'choclate', 'moomos', 'fries']\n"
     ]
    }
   ],
   "source": [
    "print(food)"
   ]
  },
  {
   "cell_type": "code",
   "execution_count": 9,
   "id": "338b9f2f",
   "metadata": {},
   "outputs": [
    {
     "name": "stdout",
     "output_type": "stream",
     "text": [
      "Burger,was tasty.\n",
      "I want more,Burger\n",
      "Pizza,was tasty.\n",
      "I want more,Pizza\n",
      "Choclate,was tasty.\n",
      "I want more,Choclate\n",
      "Moomos,was tasty.\n",
      "I want more,Moomos\n",
      "Fries,was tasty.\n",
      "I want more,Fries\n"
     ]
    }
   ],
   "source": [
    "for x in food:\n",
    "    print(f\"{x.title()},was tasty.\")\n",
    "    print(f\"I want more,{x.title()}\")\n"
   ]
  },
  {
   "cell_type": "code",
   "execution_count": 10,
   "id": "67505205",
   "metadata": {},
   "outputs": [
    {
     "name": "stdout",
     "output_type": "stream",
     "text": [
      "Burger,was tasty\n",
      "I want more,Burger\n",
      "\n",
      "Pizza,was tasty\n",
      "I want more,Pizza\n",
      "\n",
      "Choclate,was tasty\n",
      "I want more,Choclate\n",
      "\n",
      "Moomos,was tasty\n",
      "I want more,Moomos\n",
      "\n",
      "Fries,was tasty\n",
      "I want more,Fries\n",
      "\n"
     ]
    }
   ],
   "source": [
    "for x in food:\n",
    "    print(f\"{x.title()},was tasty\")\n",
    "    print(f\"I want more,{x.title()}\\n\")\n"
   ]
  },
  {
   "cell_type": "code",
   "execution_count": 13,
   "id": "a80ca303",
   "metadata": {},
   "outputs": [
    {
     "name": "stdout",
     "output_type": "stream",
     "text": [
      "Burger,was tasty\n",
      "I want more,Burger\n",
      "\n",
      "Pizza,was tasty\n",
      "I want more,Pizza\n",
      "\n",
      "Choclate,was tasty\n",
      "I want more,Choclate\n",
      "\n",
      "Moomos,was tasty\n",
      "I want more,Moomos\n",
      "\n",
      "Fries,was tasty\n",
      "I want more,Fries\n",
      "\n",
      "yummy!\n"
     ]
    }
   ],
   "source": [
    "for x in food:\n",
    "    print(f\"{x.title()},was tasty\")\n",
    "    print(f\"I want more,{x.title()}\\n\")\n",
    "print(\"yummy!\")\n"
   ]
  },
  {
   "cell_type": "code",
   "execution_count": null,
   "id": "0ca8629e",
   "metadata": {},
   "outputs": [],
   "source": []
  },
  {
   "cell_type": "code",
   "execution_count": 14,
   "id": "bbf8337a",
   "metadata": {},
   "outputs": [],
   "source": [
    "#Making numerical list\n"
   ]
  },
  {
   "cell_type": "code",
   "execution_count": 15,
   "id": "b5401e4a",
   "metadata": {},
   "outputs": [
    {
     "name": "stdout",
     "output_type": "stream",
     "text": [
      "1\n",
      "2\n",
      "3\n",
      "4\n",
      "5\n",
      "6\n",
      "7\n",
      "8\n",
      "9\n",
      "10\n",
      "11\n",
      "12\n",
      "13\n",
      "14\n",
      "15\n",
      "16\n",
      "17\n",
      "18\n",
      "19\n"
     ]
    }
   ],
   "source": [
    "for value in range(1,20):\n",
    "    print(value)"
   ]
  },
  {
   "cell_type": "code",
   "execution_count": 16,
   "id": "4e15e588",
   "metadata": {},
   "outputs": [
    {
     "name": "stdout",
     "output_type": "stream",
     "text": [
      "1\n",
      "2\n",
      "3\n",
      "4\n",
      "5\n",
      "6\n",
      "7\n",
      "8\n",
      "9\n",
      "10\n",
      "11\n",
      "12\n",
      "13\n",
      "14\n",
      "15\n",
      "16\n",
      "17\n",
      "18\n",
      "19\n",
      "20\n"
     ]
    }
   ],
   "source": [
    "for value in range(1,21):\n",
    "    print(value)"
   ]
  },
  {
   "cell_type": "code",
   "execution_count": null,
   "id": "2875bddf",
   "metadata": {},
   "outputs": [],
   "source": []
  },
  {
   "cell_type": "code",
   "execution_count": 17,
   "id": "efba54b2",
   "metadata": {},
   "outputs": [],
   "source": [
    "#req I want to make list of 20 numbers\n"
   ]
  },
  {
   "cell_type": "code",
   "execution_count": 18,
   "id": "e0148f3a",
   "metadata": {},
   "outputs": [
    {
     "name": "stdout",
     "output_type": "stream",
     "text": [
      "[1, 2, 3, 4, 5, 6, 7, 8, 9, 10, 11, 12, 13, 14, 15, 16, 17, 18, 19, 20]\n"
     ]
    }
   ],
   "source": [
    "numbers= list(range(1,21))\n",
    "print(numbers)"
   ]
  },
  {
   "cell_type": "code",
   "execution_count": null,
   "id": "f5669158",
   "metadata": {},
   "outputs": [],
   "source": [
    "#i want to print  only even number till 20"
   ]
  },
  {
   "cell_type": "code",
   "execution_count": 20,
   "id": "b87026f7",
   "metadata": {},
   "outputs": [
    {
     "name": "stdout",
     "output_type": "stream",
     "text": [
      "[2, 4, 6, 8, 10, 12, 14, 16, 18, 20]\n"
     ]
    }
   ],
   "source": [
    "even_numbers= list(range(2,21,2))\n",
    "print(even_numbers)"
   ]
  },
  {
   "cell_type": "code",
   "execution_count": null,
   "id": "7c13bd13",
   "metadata": {},
   "outputs": [],
   "source": [
    "#i want to print  only odd number till 20"
   ]
  },
  {
   "cell_type": "code",
   "execution_count": 21,
   "id": "b8cf81fe",
   "metadata": {},
   "outputs": [
    {
     "name": "stdout",
     "output_type": "stream",
     "text": [
      "[1, 3, 5, 7, 9, 11, 13, 15, 17, 19]\n"
     ]
    }
   ],
   "source": [
    "odd_numbers= list(range(1,20,2))\n",
    "print(odd_numbers)"
   ]
  },
  {
   "cell_type": "code",
   "execution_count": null,
   "id": "e2805465",
   "metadata": {},
   "outputs": [],
   "source": []
  }
 ],
 "metadata": {
  "kernelspec": {
   "display_name": "Python 3 (ipykernel)",
   "language": "python",
   "name": "python3"
  },
  "language_info": {
   "codemirror_mode": {
    "name": "ipython",
    "version": 3
   },
   "file_extension": ".py",
   "mimetype": "text/x-python",
   "name": "python",
   "nbconvert_exporter": "python",
   "pygments_lexer": "ipython3",
   "version": "3.9.7"
  }
 },
 "nbformat": 4,
 "nbformat_minor": 5
}
